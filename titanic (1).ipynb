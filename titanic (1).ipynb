{
 "cells": [
  {
   "cell_type": "code",
   "execution_count": 1,
   "id": "8183a91b",
   "metadata": {
    "execution": {
     "iopub.execute_input": "2024-12-31T10:49:25.082230Z",
     "iopub.status.busy": "2024-12-31T10:49:25.081775Z",
     "iopub.status.idle": "2024-12-31T10:49:25.522199Z",
     "shell.execute_reply": "2024-12-31T10:49:25.520633Z"
    },
    "papermill": {
     "duration": 0.448517,
     "end_time": "2024-12-31T10:49:25.524600",
     "exception": false,
     "start_time": "2024-12-31T10:49:25.076083",
     "status": "completed"
    },
    "tags": []
   },
   "outputs": [],
   "source": [
    "import pandas as pd\n"
   ]
  },
  {
   "cell_type": "code",
   "execution_count": 2,
   "id": "293a1d11",
   "metadata": {
    "execution": {
     "iopub.execute_input": "2024-12-31T10:49:25.535447Z",
     "iopub.status.busy": "2024-12-31T10:49:25.534832Z",
     "iopub.status.idle": "2024-12-31T10:49:25.545609Z",
     "shell.execute_reply": "2024-12-31T10:49:25.542291Z"
    },
    "papermill": {
     "duration": 0.019478,
     "end_time": "2024-12-31T10:49:25.549100",
     "exception": false,
     "start_time": "2024-12-31T10:49:25.529622",
     "status": "completed"
    },
    "tags": []
   },
   "outputs": [
    {
     "name": "stdout",
     "output_type": "stream",
     "text": [
      "/kaggle/input/titanic/train.csv\n",
      "/kaggle/input/titanic/test.csv\n",
      "/kaggle/input/titanic/gender_submission.csv\n"
     ]
    }
   ],
   "source": [
    "import os\n",
    "\n",
    "for dirname, _, filenames in os.walk('/kaggle/input'):\n",
    "    for filename in filenames:\n",
    "        print(os.path.join(dirname, filename))"
   ]
  },
  {
   "cell_type": "code",
   "execution_count": 3,
   "id": "779aa0f1",
   "metadata": {
    "execution": {
     "iopub.execute_input": "2024-12-31T10:49:25.563167Z",
     "iopub.status.busy": "2024-12-31T10:49:25.562709Z",
     "iopub.status.idle": "2024-12-31T10:49:25.604314Z",
     "shell.execute_reply": "2024-12-31T10:49:25.601707Z"
    },
    "papermill": {
     "duration": 0.051973,
     "end_time": "2024-12-31T10:49:25.607273",
     "exception": false,
     "start_time": "2024-12-31T10:49:25.555300",
     "status": "completed"
    },
    "tags": []
   },
   "outputs": [
    {
     "name": "stdout",
     "output_type": "stream",
     "text": [
      "   PassengerId  Survived  Pclass  \\\n",
      "0            1         0       3   \n",
      "1            2         1       1   \n",
      "2            3         1       3   \n",
      "3            4         1       1   \n",
      "4            5         0       3   \n",
      "\n",
      "                                                Name     Sex   Age  SibSp  \\\n",
      "0                            Braund, Mr. Owen Harris    male  22.0      1   \n",
      "1  Cumings, Mrs. John Bradley (Florence Briggs Th...  female  38.0      1   \n",
      "2                             Heikkinen, Miss. Laina  female  26.0      0   \n",
      "3       Futrelle, Mrs. Jacques Heath (Lily May Peel)  female  35.0      1   \n",
      "4                           Allen, Mr. William Henry    male  35.0      0   \n",
      "\n",
      "   Parch            Ticket     Fare Cabin Embarked  \n",
      "0      0         A/5 21171   7.2500   NaN        S  \n",
      "1      0          PC 17599  71.2833   C85        C  \n",
      "2      0  STON/O2. 3101282   7.9250   NaN        S  \n",
      "3      0            113803  53.1000  C123        S  \n",
      "4      0            373450   8.0500   NaN        S  \n"
     ]
    }
   ],
   "source": [
    "#load titanic dataset\n",
    "df = pd.read_csv('/kaggle/input/titanic/train.csv')\n",
    "\n",
    "#view a few rows of the data set\n",
    "print(df.head())"
   ]
  },
  {
   "cell_type": "code",
   "execution_count": 4,
   "id": "0a4cc7cf",
   "metadata": {
    "execution": {
     "iopub.execute_input": "2024-12-31T10:49:25.618269Z",
     "iopub.status.busy": "2024-12-31T10:49:25.617749Z",
     "iopub.status.idle": "2024-12-31T10:49:25.653244Z",
     "shell.execute_reply": "2024-12-31T10:49:25.651762Z"
    },
    "papermill": {
     "duration": 0.044026,
     "end_time": "2024-12-31T10:49:25.655735",
     "exception": false,
     "start_time": "2024-12-31T10:49:25.611709",
     "status": "completed"
    },
    "tags": []
   },
   "outputs": [
    {
     "name": "stdout",
     "output_type": "stream",
     "text": [
      "<class 'pandas.core.frame.DataFrame'>\n",
      "RangeIndex: 891 entries, 0 to 890\n",
      "Data columns (total 12 columns):\n",
      " #   Column       Non-Null Count  Dtype  \n",
      "---  ------       --------------  -----  \n",
      " 0   PassengerId  891 non-null    int64  \n",
      " 1   Survived     891 non-null    int64  \n",
      " 2   Pclass       891 non-null    int64  \n",
      " 3   Name         891 non-null    object \n",
      " 4   Sex          891 non-null    object \n",
      " 5   Age          714 non-null    float64\n",
      " 6   SibSp        891 non-null    int64  \n",
      " 7   Parch        891 non-null    int64  \n",
      " 8   Ticket       891 non-null    object \n",
      " 9   Fare         891 non-null    float64\n",
      " 10  Cabin        204 non-null    object \n",
      " 11  Embarked     889 non-null    object \n",
      "dtypes: float64(2), int64(5), object(5)\n",
      "memory usage: 83.7+ KB\n",
      "None\n"
     ]
    }
   ],
   "source": [
    "#view general info about dataset\n",
    "print(df.info())"
   ]
  },
  {
   "cell_type": "markdown",
   "id": "0527bcf3",
   "metadata": {
    "papermill": {
     "duration": 0.004248,
     "end_time": "2024-12-31T10:49:25.664562",
     "exception": false,
     "start_time": "2024-12-31T10:49:25.660314",
     "status": "completed"
    },
    "tags": []
   },
   "source": [
    "**Detecting and Cleaning Missing Data**"
   ]
  },
  {
   "cell_type": "code",
   "execution_count": 5,
   "id": "76b435e2",
   "metadata": {
    "execution": {
     "iopub.execute_input": "2024-12-31T10:49:25.675347Z",
     "iopub.status.busy": "2024-12-31T10:49:25.674910Z",
     "iopub.status.idle": "2024-12-31T10:49:25.682135Z",
     "shell.execute_reply": "2024-12-31T10:49:25.680725Z"
    },
    "papermill": {
     "duration": 0.015543,
     "end_time": "2024-12-31T10:49:25.684339",
     "exception": false,
     "start_time": "2024-12-31T10:49:25.668796",
     "status": "completed"
    },
    "tags": []
   },
   "outputs": [
    {
     "name": "stdout",
     "output_type": "stream",
     "text": [
      "PassengerId      0\n",
      "Survived         0\n",
      "Pclass           0\n",
      "Name             0\n",
      "Sex              0\n",
      "Age            177\n",
      "SibSp            0\n",
      "Parch            0\n",
      "Ticket           0\n",
      "Fare             0\n",
      "Cabin          687\n",
      "Embarked         2\n",
      "dtype: int64\n"
     ]
    }
   ],
   "source": [
    "#view missing data in columns,'sum()'is check the total missing data\n",
    "print(df.isnull().sum())"
   ]
  },
  {
   "cell_type": "code",
   "execution_count": 6,
   "id": "25ab7315",
   "metadata": {
    "execution": {
     "iopub.execute_input": "2024-12-31T10:49:25.696551Z",
     "iopub.status.busy": "2024-12-31T10:49:25.696166Z",
     "iopub.status.idle": "2024-12-31T10:49:25.707904Z",
     "shell.execute_reply": "2024-12-31T10:49:25.706288Z"
    },
    "papermill": {
     "duration": 0.019704,
     "end_time": "2024-12-31T10:49:25.710228",
     "exception": false,
     "start_time": "2024-12-31T10:49:25.690524",
     "status": "completed"
    },
    "tags": []
   },
   "outputs": [
    {
     "name": "stdout",
     "output_type": "stream",
     "text": [
      "PassengerId      0\n",
      "Survived         0\n",
      "Pclass           0\n",
      "Name             0\n",
      "Sex              0\n",
      "Age              0\n",
      "SibSp            0\n",
      "Parch            0\n",
      "Ticket           0\n",
      "Fare             0\n",
      "Cabin          687\n",
      "Embarked         2\n",
      "dtype: int64\n"
     ]
    }
   ],
   "source": [
    "#fill the nan values on the Age column with median \n",
    "df['Age'].fillna(df['Age'].mean(), inplace=True)\n",
    "\n",
    "#check the missing values again\n",
    "print(df.isnull().sum())"
   ]
  },
  {
   "cell_type": "code",
   "execution_count": 7,
   "id": "8cf5bcd8",
   "metadata": {
    "execution": {
     "iopub.execute_input": "2024-12-31T10:49:25.727235Z",
     "iopub.status.busy": "2024-12-31T10:49:25.726541Z",
     "iopub.status.idle": "2024-12-31T10:49:25.734303Z",
     "shell.execute_reply": "2024-12-31T10:49:25.732657Z"
    },
    "papermill": {
     "duration": 0.020527,
     "end_time": "2024-12-31T10:49:25.737244",
     "exception": false,
     "start_time": "2024-12-31T10:49:25.716717",
     "status": "completed"
    },
    "tags": []
   },
   "outputs": [
    {
     "name": "stdout",
     "output_type": "stream",
     "text": [
      "Missing data rate in Cabin column: 77.10%\n"
     ]
    }
   ],
   "source": [
    "#view the missing data rate in the Cabin column\n",
    "missing_ratio = df['Cabin'].isnull().sum()/len(df)\n",
    "print(f\"Missing data rate in Cabin column: {missing_ratio:.2%}\")"
   ]
  },
  {
   "cell_type": "code",
   "execution_count": 8,
   "id": "57874785",
   "metadata": {
    "execution": {
     "iopub.execute_input": "2024-12-31T10:49:25.750782Z",
     "iopub.status.busy": "2024-12-31T10:49:25.750415Z",
     "iopub.status.idle": "2024-12-31T10:49:25.758748Z",
     "shell.execute_reply": "2024-12-31T10:49:25.757348Z"
    },
    "papermill": {
     "duration": 0.017377,
     "end_time": "2024-12-31T10:49:25.761061",
     "exception": false,
     "start_time": "2024-12-31T10:49:25.743684",
     "status": "completed"
    },
    "tags": []
   },
   "outputs": [
    {
     "name": "stdout",
     "output_type": "stream",
     "text": [
      "0\n"
     ]
    }
   ],
   "source": [
    "#If the missing data rate is very high (such as over 60-70%)\n",
    "#fill missing data with unknown\n",
    "df['Cabin'].fillna('Unkown', inplace=True)\n",
    "\n",
    "print(df['Cabin'].isnull().sum())"
   ]
  },
  {
   "cell_type": "markdown",
   "id": "e76fe823",
   "metadata": {
    "papermill": {
     "duration": 0.005283,
     "end_time": "2024-12-31T10:49:25.775169",
     "exception": false,
     "start_time": "2024-12-31T10:49:25.769886",
     "status": "completed"
    },
    "tags": []
   },
   "source": [
    "**Data Visualization**"
   ]
  },
  {
   "cell_type": "code",
   "execution_count": 9,
   "id": "9620de8b",
   "metadata": {
    "execution": {
     "iopub.execute_input": "2024-12-31T10:49:25.787158Z",
     "iopub.status.busy": "2024-12-31T10:49:25.786671Z",
     "iopub.status.idle": "2024-12-31T10:49:27.757772Z",
     "shell.execute_reply": "2024-12-31T10:49:27.756518Z"
    },
    "papermill": {
     "duration": 1.980057,
     "end_time": "2024-12-31T10:49:27.759988",
     "exception": false,
     "start_time": "2024-12-31T10:49:25.779931",
     "status": "completed"
    },
    "tags": []
   },
   "outputs": [],
   "source": [
    "import seaborn as sns \n",
    "import matplotlib.pyplot as plt"
   ]
  },
  {
   "cell_type": "code",
   "execution_count": 10,
   "id": "a6dd24a5",
   "metadata": {
    "execution": {
     "iopub.execute_input": "2024-12-31T10:49:27.770921Z",
     "iopub.status.busy": "2024-12-31T10:49:27.770411Z",
     "iopub.status.idle": "2024-12-31T10:49:28.029232Z",
     "shell.execute_reply": "2024-12-31T10:49:28.027704Z"
    },
    "papermill": {
     "duration": 0.266603,
     "end_time": "2024-12-31T10:49:28.031369",
     "exception": false,
     "start_time": "2024-12-31T10:49:27.764766",
     "status": "completed"
    },
    "tags": []
   },
   "outputs": [
    {
     "data": {
      "image/png": "[encoded data removed]",
      "text/plain": [
       "<Figure size 640x480 with 1 Axes>"
      ]
     },
     "metadata": {},
     "output_type": "display_data"
    }
   ],
   "source": [
    "#visualize the passenger class (Pclass) distribution\n",
    "sns.countplot(x='Pclass', data=df)\n",
    "plt.title('Passenger Class Distribution')\n",
    "plt.show()\n"
   ]
  },
  {
   "cell_type": "code",
   "execution_count": 11,
   "id": "77266bc5",
   "metadata": {
    "execution": {
     "iopub.execute_input": "2024-12-31T10:49:28.044410Z",
     "iopub.status.busy": "2024-12-31T10:49:28.044025Z",
     "iopub.status.idle": "2024-12-31T10:49:28.344904Z",
     "shell.execute_reply": "2024-12-31T10:49:28.343734Z"
    },
    "papermill": {
     "duration": 0.310242,
     "end_time": "2024-12-31T10:49:28.346694",
     "exception": false,
     "start_time": "2024-12-31T10:49:28.036452",
     "status": "completed"
    },
    "tags": []
   },
   "outputs": [
    {
     "data": {
      "image/png": "[encoded data removed]",
      "text/plain": [
       "<Figure size 640x480 with 1 Axes>"
      ]
     },
     "metadata": {},
     "output_type": "display_data"
    }
   ],
   "source": [
    "## Plot histogram of age column\n",
    "df['Age'].plot(kind='hist', bins=20, title = 'Age Distribution', color='pink')\n",
    "plt.xlabel('Age')\n",
    "plt.show()"
   ]
  },
  {
   "cell_type": "markdown",
   "id": "0e29d42e",
   "metadata": {
    "papermill": {
     "duration": 0.004872,
     "end_time": "2024-12-31T10:49:28.356866",
     "exception": false,
     "start_time": "2024-12-31T10:49:28.351994",
     "status": "completed"
    },
    "tags": []
   },
   "source": [
    "**Simple Analyzes**"
   ]
  },
  {
   "cell_type": "code",
   "execution_count": 12,
   "id": "22dbc7a4",
   "metadata": {
    "execution": {
     "iopub.execute_input": "2024-12-31T10:49:28.369308Z",
     "iopub.status.busy": "2024-12-31T10:49:28.368824Z",
     "iopub.status.idle": "2024-12-31T10:49:28.375486Z",
     "shell.execute_reply": "2024-12-31T10:49:28.373996Z"
    },
    "papermill": {
     "duration": 0.015501,
     "end_time": "2024-12-31T10:49:28.377619",
     "exception": false,
     "start_time": "2024-12-31T10:49:28.362118",
     "status": "completed"
    },
    "tags": []
   },
   "outputs": [
    {
     "name": "stdout",
     "output_type": "stream",
     "text": [
      "Survival Rate: 38.38%\n"
     ]
    }
   ],
   "source": [
    "#Calculate the survival rate according to the Survived column\n",
    "survival_rate = df['Survived'].mean()\n",
    "print(f\"Survival Rate: {survival_rate:.2%}\")"
   ]
  },
  {
   "cell_type": "code",
   "execution_count": 13,
   "id": "76226f95",
   "metadata": {
    "execution": {
     "iopub.execute_input": "2024-12-31T10:49:28.390246Z",
     "iopub.status.busy": "2024-12-31T10:49:28.389740Z",
     "iopub.status.idle": "2024-12-31T10:49:28.400393Z",
     "shell.execute_reply": "2024-12-31T10:49:28.399010Z"
    },
    "papermill": {
     "duration": 0.019178,
     "end_time": "2024-12-31T10:49:28.402671",
     "exception": false,
     "start_time": "2024-12-31T10:49:28.383493",
     "status": "completed"
    },
    "tags": []
   },
   "outputs": [
    {
     "name": "stdout",
     "output_type": "stream",
     "text": [
      "Pclass\n",
      "1    0.629630\n",
      "2    0.472826\n",
      "3    0.242363\n",
      "Name: Survived, dtype: float64\n"
     ]
    }
   ],
   "source": [
    "#Calculate the survival rate according to class\n",
    "class_survival_rate= df.groupby('Pclass')['Survived'].mean()\n",
    "print(class_survival_rate)"
   ]
  },
  {
   "cell_type": "code",
   "execution_count": 14,
   "id": "dd2e8f28",
   "metadata": {
    "execution": {
     "iopub.execute_input": "2024-12-31T10:49:28.415164Z",
     "iopub.status.busy": "2024-12-31T10:49:28.414638Z",
     "iopub.status.idle": "2024-12-31T10:49:28.427083Z",
     "shell.execute_reply": "2024-12-31T10:49:28.425565Z"
    },
    "papermill": {
     "duration": 0.020761,
     "end_time": "2024-12-31T10:49:28.429177",
     "exception": false,
     "start_time": "2024-12-31T10:49:28.408416",
     "status": "completed"
    },
    "tags": []
   },
   "outputs": [
    {
     "name": "stdout",
     "output_type": "stream",
     "text": [
      "Fare_Group\n",
      "Low       0.569307\n",
      "Medium    0.587500\n",
      "High      0.527778\n",
      "Name: Survived, dtype: float64\n"
     ]
    }
   ],
   "source": [
    "# fare divide the fare column into three groups\n",
    "df['Fare_Group'] = pd.cut(df['Fare'], bins=[14, 28, 42, 56], labels=['Low', 'Medium', 'High'])\n",
    "\n",
    "# calculate the survival rate in each fare group\n",
    "fare_death_rate = df.groupby('Fare_Group', observed=False)['Survived'].apply(lambda x: 1 - x.mean())\n",
    "print(fare_death_rate)"
   ]
  }
 ],
 "metadata": {
  "kaggle": {
   "accelerator": "none",
   "dataSources": [
    {
     "databundleVersionId": 26502,
     "sourceId": 3136,
     "sourceType": "competition"
    }
   ],
   "dockerImageVersionId": 30822,
   "isGpuEnabled": false,
   "isInternetEnabled": false,
   "language": "python",
   "sourceType": "notebook"
  },
  "kernelspec": {
   "display_name": "Python 3",
   "language": "python",
   "name": "python3"
  },
  "language_info": {
   "codemirror_mode": {
    "name": "ipython",
    "version": 3
   },
   "file_extension": ".py",
   "mimetype": "text/x-python",
   "name": "python",
   "nbconvert_exporter": "python",
   "pygments_lexer": "ipython3",
   "version": "3.10.12"
  },
  "papermill": {
   "default_parameters": {},
   "duration": 6.408952,
   "end_time": "2024-12-31T10:49:29.156230",
   "environment_variables": {},
   "exception": null,
   "input_path": "__notebook__.ipynb",
   "output_path": "__notebook__.ipynb",
   "parameters": {},
   "start_time": "2024-12-31T10:49:22.747278",
   "version": "2.6.0"
  }
 },
 "nbformat": 4,
 "nbformat_minor": 5
}
